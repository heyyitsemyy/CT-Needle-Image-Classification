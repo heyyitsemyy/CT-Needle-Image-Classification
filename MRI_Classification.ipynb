{
  "cells": [
    {
      "cell_type": "code",
      "execution_count": null,
      "metadata": {
        "colab": {
          "base_uri": "https://localhost:8080/"
        },
        "id": "43b603f5",
        "outputId": "24999b8d-d697-436a-dbc6-d3bbc4ed91fa"
      },
      "outputs": [
        {
          "output_type": "stream",
          "name": "stdout",
          "text": [
            "Looking in indexes: https://pypi.org/simple, https://us-python.pkg.dev/colab-wheels/public/simple/\n",
            "Requirement already satisfied: timm in /usr/local/lib/python3.7/dist-packages (0.5.4)\n",
            "Requirement already satisfied: torchvision in /usr/local/lib/python3.7/dist-packages (from timm) (0.12.0+cu113)\n",
            "Requirement already satisfied: torch>=1.4 in /usr/local/lib/python3.7/dist-packages (from timm) (1.11.0+cu113)\n",
            "Requirement already satisfied: typing-extensions in /usr/local/lib/python3.7/dist-packages (from torch>=1.4->timm) (4.2.0)\n",
            "Requirement already satisfied: pillow!=8.3.*,>=5.3.0 in /usr/local/lib/python3.7/dist-packages (from torchvision->timm) (7.1.2)\n",
            "Requirement already satisfied: numpy in /usr/local/lib/python3.7/dist-packages (from torchvision->timm) (1.21.6)\n",
            "Requirement already satisfied: requests in /usr/local/lib/python3.7/dist-packages (from torchvision->timm) (2.23.0)\n",
            "Requirement already satisfied: certifi>=2017.4.17 in /usr/local/lib/python3.7/dist-packages (from requests->torchvision->timm) (2022.5.18.1)\n",
            "Requirement already satisfied: chardet<4,>=3.0.2 in /usr/local/lib/python3.7/dist-packages (from requests->torchvision->timm) (3.0.4)\n",
            "Requirement already satisfied: idna<3,>=2.5 in /usr/local/lib/python3.7/dist-packages (from requests->torchvision->timm) (2.10)\n",
            "Requirement already satisfied: urllib3!=1.25.0,!=1.25.1,<1.26,>=1.21.1 in /usr/local/lib/python3.7/dist-packages (from requests->torchvision->timm) (1.25.11)\n",
            "Looking in indexes: https://pypi.org/simple, https://us-python.pkg.dev/colab-wheels/public/simple/\n",
            "Requirement already satisfied: torchdata in /usr/local/lib/python3.7/dist-packages (0.3.0)\n",
            "Requirement already satisfied: urllib3>=1.25 in /usr/local/lib/python3.7/dist-packages (from torchdata) (1.25.11)\n",
            "Requirement already satisfied: torch==1.11.0 in /usr/local/lib/python3.7/dist-packages (from torchdata) (1.11.0+cu113)\n",
            "Requirement already satisfied: requests in /usr/local/lib/python3.7/dist-packages (from torchdata) (2.23.0)\n",
            "Requirement already satisfied: typing-extensions in /usr/local/lib/python3.7/dist-packages (from torch==1.11.0->torchdata) (4.2.0)\n",
            "Requirement already satisfied: idna<3,>=2.5 in /usr/local/lib/python3.7/dist-packages (from requests->torchdata) (2.10)\n",
            "Requirement already satisfied: chardet<4,>=3.0.2 in /usr/local/lib/python3.7/dist-packages (from requests->torchdata) (3.0.4)\n",
            "Requirement already satisfied: certifi>=2017.4.17 in /usr/local/lib/python3.7/dist-packages (from requests->torchdata) (2022.5.18.1)\n"
          ]
        }
      ],
      "source": [
        "!pip install timm\n",
        "!pip install torchdata\n",
        "import timm\n",
        "import torch \n",
        "from PIL import Image\n",
        "from timm.data.transforms_factory import create_transform\n",
        "from torchvision.datasets import ImageFolder\n",
        "from torchvision import transforms\n",
        "import torchvision\n",
        "import torchdata as td\n",
        "import os\n",
        "from sklearn import metrics\n",
        "import numpy as np\n",
        "import sys\n",
        "import matplotlib.pyplot as plt"
      ],
      "id": "43b603f5"
    },
    {
      "cell_type": "code",
      "execution_count": null,
      "metadata": {
        "colab": {
          "base_uri": "https://localhost:8080/"
        },
        "id": "YQLbOQx210s2",
        "outputId": "4d511fbc-0e32-4a8c-bd8a-0c9239863d07"
      },
      "outputs": [
        {
          "output_type": "stream",
          "name": "stdout",
          "text": [
            "Mounted at /content/gdrive\n"
          ]
        }
      ],
      "source": [
        "from google.colab import drive\n",
        "drive.mount('/content/gdrive')"
      ],
      "id": "YQLbOQx210s2"
    },
    {
      "cell_type": "code",
      "execution_count": null,
      "metadata": {
        "id": "VjNsh2Na39xY"
      },
      "outputs": [],
      "source": [
        "#adjust path\n",
        "sys.path += ['/content/gdrive/My Drive/BE224B']"
      ],
      "id": "VjNsh2Na39xY"
    },
    {
      "cell_type": "markdown",
      "metadata": {
        "id": "5db65f10"
      },
      "source": [
        "**Load Train/Test Data**"
      ],
      "id": "5db65f10"
    },
    {
      "cell_type": "code",
      "execution_count": null,
      "metadata": {
        "id": "7c75f5b5",
        "scrolled": true
      },
      "outputs": [],
      "source": [
        "#adjust path to train and test folders\n",
        "train_root ='/content/gdrive/My Drive/BE224B/NeedleImages/train/'\n",
        "test_root ='/content/gdrive/My Drive/BE224B/NeedleImages/test/'\n",
        "\n",
        "#initialize transformers\n",
        "transformers = transforms.Compose([transforms.ToTensor(), transforms.Grayscale(), transforms.CenterCrop(512)])\n",
        "\n",
        "train_data = ImageFolder(root = train_root, transform = transformers)\n",
        "\n",
        "test_data = ImageFolder(root = test_root, transform = transformers)\n",
        "\n",
        "#get class weights\n",
        "class_weights = []\n",
        "for root, subdir, files in os.walk(train_root):\n",
        "  if len(files) > 0: \n",
        "    class_weights.append(1/len(files))\n",
        "print(class_weights)\n",
        "\n",
        "sample_weights = [0] * len(train_data)\n",
        "\n",
        "#set sample weights\n",
        "for idx, (data, label) in enumerate(train_data):\n",
        "  class_weight = class_weights[label] \n",
        "  sample_weights[idx] = class_weight\n",
        "\n",
        "sampler = torch.utils.data.WeightedRandomSampler(sample_weights, num_samples = len(sample_weights), replacement = True)\n",
        "\n",
        "#initialize dataloaders\n",
        "train_data_loader = torch.utils.data.DataLoader(train_data, batch_size = 4, drop_last = False, sampler = sampler)\n",
        "\n",
        "test_data_loader = torch.utils.data.DataLoader(test_data, batch_size = 4, shuffle = True, drop_last = False)"
      ],
      "id": "7c75f5b5"
    },
    {
      "cell_type": "markdown",
      "metadata": {
        "id": "5766a95d"
      },
      "source": [
        "**Load Model**"
      ],
      "id": "5766a95d"
    },
    {
      "cell_type": "code",
      "execution_count": null,
      "metadata": {
        "id": "M2AIart2hMaG"
      },
      "outputs": [],
      "source": [
        "path = '/content/gdrive/My Drive/BE224B/model.pth'"
      ],
      "id": "M2AIart2hMaG"
    },
    {
      "cell_type": "code",
      "execution_count": null,
      "metadata": {
        "id": "8656015b"
      },
      "outputs": [],
      "source": [
        "# model = timm.create_model('resnet50d', num_classes = 2, in_chans = 1, pretrained = False, global_pool = 'max')\n",
        "# \n",
        "# model.load_state_dict(torch.load(path)[\"params\"])\n",
        "# run_dict = torch.load(path)"
      ],
      "id": "8656015b"
    },
    {
      "cell_type": "markdown",
      "metadata": {
        "id": "3433ce01"
      },
      "source": [
        "**Instantiate Model**"
      ],
      "id": "3433ce01"
    },
    {
      "cell_type": "code",
      "execution_count": null,
      "metadata": {
        "id": "341b1a06"
      },
      "outputs": [],
      "source": [
        "run_dict = {}\n",
        "run_dict[\"epoch\"] = 0\n",
        "model = timm.create_model('resnet50d', num_classes = 2, in_chans = 1, pretrained = False, global_pool = 'max')"
      ],
      "id": "341b1a06"
    },
    {
      "cell_type": "markdown",
      "metadata": {
        "id": "18a71502"
      },
      "source": [
        "**Loss Function & Optimizer**"
      ],
      "id": "18a71502"
    },
    {
      "cell_type": "code",
      "execution_count": null,
      "metadata": {
        "id": "5027f227"
      },
      "outputs": [],
      "source": [
        "loss_fn = torch.nn.CrossEntropyLoss()\n",
        "optimizer = torch.optim.SGD(model.parameters(), lr = 0.001, momentum = 0.9)"
      ],
      "id": "5027f227"
    },
    {
      "cell_type": "markdown",
      "metadata": {
        "id": "c89a9bce"
      },
      "source": [
        "**Testing Function**"
      ],
      "id": "c89a9bce"
    },
    {
      "cell_type": "code",
      "execution_count": null,
      "metadata": {
        "id": "90bd764f"
      },
      "outputs": [],
      "source": [
        "def testing(model):\n",
        "  model.eval()\n",
        "  y = []\n",
        "  y_hat = []\n",
        "  for i, data in enumerate(test_data_loader):\n",
        "      inputs, labels = data\n",
        "      y.extend(labels.tolist())\n",
        "      outputs = model(inputs)\n",
        "      predicted_y = torch.argmax(outputs, 1)\n",
        "      y_hat.extend(predicted_y.tolist())\n",
        "\n",
        "  print(run_dict[\"epoch\"])\n",
        "  print(y_hat)\n",
        "  print(y)\n",
        "  print('Overall Metrics: ', metrics.classification_report(y, y_hat, zero_division = 0))\n",
        "  print('Jaccard Score: ', metrics.jaccard_score(y, y_hat, zero_division = 0))\n",
        "  print('Confusion Matrix: ', metrics.confusion_matrix(y, y_hat, labels = [0, 1]))\n",
        "  conf_matrix = metrics.confusion_matrix(y, y_hat, labels = [0, 1])\n",
        "  fig, ax = plt.subplots(figsize=(7.5, 7.5))\n",
        "  ax.matshow(conf_matrix, cmap=plt.cm.Blues, alpha=0.3)\n",
        "  for i in range(conf_matrix.shape[0]):\n",
        "      for j in range(conf_matrix.shape[1]):\n",
        "          ax.text(x=j, y=i,s=conf_matrix[i, j], va='center', ha='center', size='xx-large')\n",
        "  \n",
        "  plt.xlabel('Predictions', fontsize=18)\n",
        "  plt.ylabel('Actuals', fontsize=18)\n",
        "  plt.title('Confusion Matrix', fontsize=18)\n",
        "  plt.show()"
      ],
      "id": "90bd764f"
    },
    {
      "cell_type": "markdown",
      "metadata": {
        "id": "0bf8d6c9"
      },
      "source": [
        "**Training**"
      ],
      "id": "0bf8d6c9"
    },
    {
      "cell_type": "code",
      "execution_count": null,
      "metadata": {
        "id": "e51a0443"
      },
      "outputs": [],
      "source": [
        "model.train()\n",
        "for epoch in range((run_dict['epoch']+1), 151):\n",
        "    running_loss = 0.0\n",
        "    for i, data in enumerate(train_data_loader):\n",
        "        inputs, labels = data\n",
        "        optimizer.zero_grad()\n",
        "        outputs = model(inputs)\n",
        "        loss = loss_fn(outputs, labels)\n",
        "        loss.backward()\n",
        "        optimizer.step()\n",
        "        running_loss += loss.item()\n",
        "        if i%10 == 0:\n",
        "            print(f'[{epoch}, {i+1:5d}] loss: {running_loss / 10:.3f}')\n",
        "            running_loss = 0.0\n",
        "    run_dict[\"params\"] = model.state_dict()\n",
        "    print(\"epoch: \", epoch)\n",
        "    run_dict[\"epoch\"] = epoch\n",
        "    torch.save(run_dict, path)\n",
        "    print('Model Saved')\n",
        "\n",
        "    if epoch%10 == 0:\n",
        "      testing(model)\n",
        "\n",
        "run_dict[\"params\"] = model.state_dict()\n",
        "torch.save(run_dict, path)\n",
        "\n",
        "print('Model Saved')\n",
        "print('Finished Training')"
      ],
      "id": "e51a0443"
    },
    {
      "cell_type": "markdown",
      "metadata": {
        "id": "ed8f7b1a"
      },
      "source": [
        "**Saving Model**"
      ],
      "id": "ed8f7b1a"
    },
    {
      "cell_type": "code",
      "execution_count": null,
      "metadata": {
        "id": "e18aac1d"
      },
      "outputs": [],
      "source": [
        "# path = '/content/gdrive/My Drive/BE224B/model.pth'\n",
        "# torch.save(run_dict, path)"
      ],
      "id": "e18aac1d"
    },
    {
      "cell_type": "markdown",
      "source": [
        "**Testing**"
      ],
      "metadata": {
        "id": "ksu2qwb3Nvst"
      },
      "id": "ksu2qwb3Nvst"
    },
    {
      "cell_type": "code",
      "execution_count": null,
      "metadata": {
        "colab": {
          "base_uri": "https://localhost:8080/",
          "height": 781
        },
        "id": "_lLOiy5nVrjB",
        "outputId": "ec046ac1-9245-442e-c571-63681b740fa8"
      },
      "outputs": [
        {
          "output_type": "stream",
          "name": "stdout",
          "text": [
            "111\n",
            "[0, 1, 1, 1, 0, 1, 1, 1, 0, 0, 1, 1, 1, 0, 0, 0, 1, 1, 1, 1, 1, 0, 1, 1, 1, 1, 1, 1, 1, 1, 1, 1, 0, 1, 1, 1, 1, 0, 1, 0, 1, 0, 1, 1, 0, 0, 1, 1, 1, 1, 0, 0, 1, 0, 0, 1, 0, 1, 0, 1, 0, 0, 0, 1, 0, 0, 1, 1, 0, 0, 1, 1, 1, 1, 1, 0, 1, 1, 0, 0, 1, 0, 1, 1, 1, 1, 1, 0, 1, 1, 1, 1, 0, 1, 0, 0, 0, 1, 1, 1, 0, 1, 1, 0, 0, 1, 1, 1, 1, 0, 0, 0, 0, 0, 1, 0, 1, 1, 0, 0, 1, 0, 1, 1, 1, 0, 1, 1, 1, 0, 0, 1, 1, 0, 1, 0, 1, 1, 1, 1, 1, 1, 1, 1, 1, 1, 1, 1, 1, 0, 1, 1, 0, 1, 1, 1, 0, 1, 1, 1, 1, 1, 1, 1, 0, 0, 1, 0, 1, 0, 1, 1, 0, 0, 0, 0, 1, 1, 0, 1, 1, 1, 0, 1, 0, 0, 1, 1, 0]\n",
            "[0, 1, 1, 1, 0, 1, 1, 1, 0, 0, 1, 1, 1, 0, 1, 1, 1, 1, 1, 1, 1, 0, 1, 1, 1, 1, 1, 1, 1, 1, 0, 1, 0, 1, 1, 1, 0, 0, 1, 1, 1, 1, 1, 1, 0, 0, 1, 1, 1, 1, 0, 0, 1, 1, 1, 0, 1, 1, 1, 1, 1, 1, 0, 1, 0, 0, 1, 0, 0, 0, 1, 0, 1, 1, 1, 0, 1, 1, 1, 0, 1, 1, 1, 1, 1, 1, 1, 0, 1, 1, 1, 1, 0, 1, 1, 0, 0, 1, 1, 1, 0, 1, 1, 0, 1, 1, 1, 1, 1, 0, 1, 0, 0, 0, 1, 0, 1, 1, 1, 0, 1, 0, 1, 1, 1, 0, 0, 0, 1, 0, 0, 1, 1, 1, 1, 1, 0, 1, 0, 0, 1, 1, 0, 1, 0, 1, 1, 1, 1, 1, 1, 1, 0, 1, 1, 1, 1, 1, 1, 1, 1, 1, 1, 0, 1, 0, 1, 0, 1, 0, 1, 1, 0, 0, 1, 1, 1, 1, 0, 1, 1, 1, 0, 1, 1, 0, 1, 1, 1]\n",
            "Overall Metrics:                precision    recall  f1-score   support\n",
            "\n",
            "           0       0.64      0.77      0.70        57\n",
            "           1       0.89      0.81      0.85       132\n",
            "\n",
            "    accuracy                           0.80       189\n",
            "   macro avg       0.76      0.79      0.77       189\n",
            "weighted avg       0.82      0.80      0.80       189\n",
            "\n",
            "Jaccard Score:  0.7379310344827587\n",
            "Confusion Matrix:  [[ 44  13]\n",
            " [ 25 107]]\n"
          ]
        },
        {
          "output_type": "display_data",
          "data": {
            "text/plain": [
              "<Figure size 540x540 with 1 Axes>"
            ],
            "image/png": "[encoded data removed]"
          },
          "metadata": {
            "needs_background": "light"
          }
        }
      ],
      "source": [
        "testing(model)"
      ],
      "id": "_lLOiy5nVrjB"
    },
    {
      "cell_type": "markdown",
      "metadata": {
        "id": "e23345a9"
      },
      "source": [
        "**Move data into class subfolders**"
      ],
      "id": "e23345a9"
    },
    {
      "cell_type": "code",
      "execution_count": null,
      "metadata": {
        "id": "5721146f"
      },
      "outputs": [],
      "source": [
        "# import shutil\n",
        "# import os\n",
        "# labels = pd.read_csv('/Users/Emily/Documents/BioE 224B/NeedleImages/Labels.csv')\n",
        "# labels.drop('ID', inplace = True, axis = 1)\n",
        "# print(labels)\n",
        "\n",
        "# root = '/Users/Emily/Documents/BioE 224B/NeedleImages/'\n",
        "# move = '/Users/Emily/Documents/BioE 224B/'\n",
        "\n",
        "# for filename, class_name in labels.values:\n",
        "# #     if not os.path.exists(root + str(class_name)):\n",
        "# #         os.mkdir(root + str(class_name))\n",
        "#     print(filename, class_name)\n",
        "#     shutil.copy(os.path.join(root,filename), os.path.join(move,class_name))"
      ],
      "id": "5721146f"
    }
  ],
  "metadata": {
    "colab": {
      "collapsed_sections": [],
      "name": "BE224B Final Project.ipynb",
      "provenance": []
    },
    "kernelspec": {
      "display_name": "Python 3 (ipykernel)",
      "language": "python",
      "name": "python3"
    },
    "language_info": {
      "codemirror_mode": {
        "name": "ipython",
        "version": 3
      },
      "file_extension": ".py",
      "mimetype": "text/x-python",
      "name": "python",
      "nbconvert_exporter": "python",
      "pygments_lexer": "ipython3",
      "version": "3.9.0"
    }
  },
  "nbformat": 4,
  "nbformat_minor": 5
}